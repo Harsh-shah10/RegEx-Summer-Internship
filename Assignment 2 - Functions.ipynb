{
 "cells": [
  {
   "cell_type": "markdown",
   "id": "e288a461",
   "metadata": {},
   "source": [
    "# Task 2 Name - Harsh Shah Referral id - SIRSS1200"
   ]
  },
  {
   "cell_type": "code",
   "execution_count": 1,
   "id": "0fcee682",
   "metadata": {},
   "outputs": [
    {
     "name": "stdout",
     "output_type": "stream",
     "text": [
      "you are awesome\n"
     ]
    },
    {
     "data": {
      "text/plain": [
       "'you'"
      ]
     },
     "execution_count": 1,
     "metadata": {},
     "output_type": "execute_result"
    }
   ],
   "source": [
    "a=lambda n: n.split()[0]\n",
    "n=input()\n",
    "a(n)"
   ]
  },
  {
   "cell_type": "code",
   "execution_count": 3,
   "id": "8575a81f",
   "metadata": {},
   "outputs": [
    {
     "name": "stdout",
     "output_type": "stream",
     "text": [
      "let us shine\n",
      "let\n"
     ]
    }
   ],
   "source": [
    "def fw(n):\n",
    "    return n.split()[0]\n",
    "n=input()\n",
    "print(fw(n))"
   ]
  },
  {
   "cell_type": "code",
   "execution_count": 4,
   "id": "42228bf7",
   "metadata": {},
   "outputs": [
    {
     "data": {
      "text/plain": [
       "['There', 'who', 'and']"
      ]
     },
     "execution_count": 4,
     "metadata": {},
     "output_type": "execute_result"
    }
   ],
   "source": [
    "def fw(n):\n",
    "    return n.split()[0]\n",
    "l1=[\"There was a farmer\", \"who has a dog\", \"and bingo was it's name\"]\n",
    "m=list(map(fw,l1))\n",
    "m"
   ]
  },
  {
   "cell_type": "code",
   "execution_count": 5,
   "id": "06dce2a3",
   "metadata": {},
   "outputs": [
    {
     "name": "stdout",
     "output_type": "stream",
     "text": [
      "16\n",
      "[1, 2]\n"
     ]
    }
   ],
   "source": [
    "def check_prime(n):\n",
    "    for i in range(2,int(n**(0.5))+1):\n",
    "        if n%i==0:\n",
    "            return 0\n",
    "    else:\n",
    "        return 1\n",
    "n=int(input())\n",
    "l=[1]\n",
    "for i in range(2,n+1):\n",
    "    if n%i==0:\n",
    "        if (check_prime(i)) ==1:\n",
    "            l.append(i)\n",
    "print(l)"
   ]
  },
  {
   "cell_type": "code",
   "execution_count": 7,
   "id": "89ff868a",
   "metadata": {},
   "outputs": [
    {
     "name": "stdout",
     "output_type": "stream",
     "text": [
      "Enter number of elements in list: 4\n",
      "Enter numbers : 23\n",
      "Enter numbers : 12\n",
      "Enter numbers : 11\n",
      "Enter numbers : 8\n",
      "Second largest no. is: 12\n"
     ]
    }
   ],
   "source": [
    "l1 = []\n",
    "num = int(input(\"Enter number of elements in list: \"))\n",
    "for i in range(1, num + 1):\n",
    "    no = int(input(\"Enter numbers : \"))\n",
    "    l1.append(no)\n",
    "l1.sort()\n",
    "print(\"Second largest no. is:\", l1[-2])"
   ]
  },
  {
   "cell_type": "code",
   "execution_count": null,
   "id": "ef8a56fc",
   "metadata": {},
   "outputs": [],
   "source": []
  }
 ],
 "metadata": {
  "kernelspec": {
   "display_name": "Python 3",
   "language": "python",
   "name": "python3"
  },
  "language_info": {
   "codemirror_mode": {
    "name": "ipython",
    "version": 3
   },
   "file_extension": ".py",
   "mimetype": "text/x-python",
   "name": "python",
   "nbconvert_exporter": "python",
   "pygments_lexer": "ipython3",
   "version": "3.8.8"
  }
 },
 "nbformat": 4,
 "nbformat_minor": 5
}
