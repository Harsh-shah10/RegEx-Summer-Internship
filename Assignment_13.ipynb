{
  "nbformat": 4,
  "nbformat_minor": 0,
  "metadata": {
    "colab": {
      "name": "Assignment 13.ipynb",
      "provenance": []
    },
    "kernelspec": {
      "name": "python3",
      "display_name": "Python 3"
    },
    "language_info": {
      "name": "python"
    },
    "accelerator": "GPU"
  },
  "cells": [
    {
      "cell_type": "markdown",
      "metadata": {
        "id": "AGtps3xFg16J"
      },
      "source": [
        "### **Task 13 Name - Harsh Shah Referral id - SIRSS1200**"
      ]
    },
    {
      "cell_type": "code",
      "metadata": {
        "id": "SwTpexsucFcY"
      },
      "source": [
        "\n",
        "import numpy\n",
        "import tensorflow as tf\n",
        "from keras.models import Sequential\n",
        "from keras.layers import Dense, Dropout, BatchNormalization, Activation,Flatten\n",
        "from keras.constraints import maxnorm\n",
        "from keras.utils import np_utils"
      ],
      "execution_count": null,
      "outputs": []
    },
    {
      "cell_type": "code",
      "metadata": {
        "id": "SBi8tBb_cThi"
      },
      "source": [
        "from keras.datasets import cifar10"
      ],
      "execution_count": null,
      "outputs": []
    },
    {
      "cell_type": "code",
      "metadata": {
        "id": "4xcrAVTXcYbf"
      },
      "source": [
        "\n",
        "(x_train, y_train),(x_test, y_test)=cifar10.load_data()"
      ],
      "execution_count": null,
      "outputs": []
    },
    {
      "cell_type": "code",
      "metadata": {
        "colab": {
          "base_uri": "https://localhost:8080/"
        },
        "id": "8Jp3cF58cbTW",
        "outputId": "0d3599fa-03f3-43e8-af43-7f6d9c9c7861"
      },
      "source": [
        "\n",
        "print(x_train[0])"
      ],
      "execution_count": null,
      "outputs": [
        {
          "output_type": "stream",
          "text": [
            "[[[ 59  62  63]\n",
            "  [ 43  46  45]\n",
            "  [ 50  48  43]\n",
            "  ...\n",
            "  [158 132 108]\n",
            "  [152 125 102]\n",
            "  [148 124 103]]\n",
            "\n",
            " [[ 16  20  20]\n",
            "  [  0   0   0]\n",
            "  [ 18   8   0]\n",
            "  ...\n",
            "  [123  88  55]\n",
            "  [119  83  50]\n",
            "  [122  87  57]]\n",
            "\n",
            " [[ 25  24  21]\n",
            "  [ 16   7   0]\n",
            "  [ 49  27   8]\n",
            "  ...\n",
            "  [118  84  50]\n",
            "  [120  84  50]\n",
            "  [109  73  42]]\n",
            "\n",
            " ...\n",
            "\n",
            " [[208 170  96]\n",
            "  [201 153  34]\n",
            "  [198 161  26]\n",
            "  ...\n",
            "  [160 133  70]\n",
            "  [ 56  31   7]\n",
            "  [ 53  34  20]]\n",
            "\n",
            " [[180 139  96]\n",
            "  [173 123  42]\n",
            "  [186 144  30]\n",
            "  ...\n",
            "  [184 148  94]\n",
            "  [ 97  62  34]\n",
            "  [ 83  53  34]]\n",
            "\n",
            " [[177 144 116]\n",
            "  [168 129  94]\n",
            "  [179 142  87]\n",
            "  ...\n",
            "  [216 184 140]\n",
            "  [151 118  84]\n",
            "  [123  92  72]]]\n"
          ],
          "name": "stdout"
        }
      ]
    },
    {
      "cell_type": "code",
      "metadata": {
        "id": "wY4J_jvUce0e"
      },
      "source": [
        "# Normalization needs to be done here\n",
        "\n",
        "x_train=x_train.astype('float32')\n",
        "x_test=x_test.astype('float32')\n",
        "x_train=x_train/255.0\n",
        "x_test=x_test/255.0"
      ],
      "execution_count": null,
      "outputs": []
    },
    {
      "cell_type": "code",
      "metadata": {
        "id": "WqMZFtw5ckeu"
      },
      "source": [
        "y_train=np_utils.to_categorical(y_train)\n",
        "y_test=np_utils.to_categorical(y_test)\n",
        "class_num=y_test.shape[1]"
      ],
      "execution_count": null,
      "outputs": []
    },
    {
      "cell_type": "code",
      "metadata": {
        "id": "qEEQZ3XgcqJe"
      },
      "source": [
        "model=Sequential()"
      ],
      "execution_count": null,
      "outputs": []
    },
    {
      "cell_type": "code",
      "metadata": {
        "id": "L40A0AjpcrpH"
      },
      "source": [
        "from keras.layers.convolutional import Conv2D, MaxPooling2D"
      ],
      "execution_count": null,
      "outputs": []
    },
    {
      "cell_type": "code",
      "metadata": {
        "id": "K4Ep0pg0cvH_"
      },
      "source": [
        "model.add(Conv2D(32,(3,3),input_shape=x_train.shape[1:],padding='same'))\n",
        "model.add(Activation('relu'))"
      ],
      "execution_count": null,
      "outputs": []
    },
    {
      "cell_type": "code",
      "metadata": {
        "id": "IG9nFRbOc5Nf"
      },
      "source": [
        "model.add(Dropout(0.2))\n",
        "model.add(BatchNormalization())"
      ],
      "execution_count": null,
      "outputs": []
    },
    {
      "cell_type": "code",
      "metadata": {
        "id": "7N1ksnbZc8XH"
      },
      "source": [
        "# Another convoultional layer\n",
        "\n",
        "model.add(Conv2D(64,(3,3),padding='same'))\n",
        "model.add(Activation('relu'))"
      ],
      "execution_count": null,
      "outputs": []
    },
    {
      "cell_type": "code",
      "metadata": {
        "id": "zatDdBPddEln"
      },
      "source": [
        "model.add(MaxPooling2D(pool_size=(2,2)))\n",
        "model.add(Dropout(0.2))\n",
        "model.add(BatchNormalization())"
      ],
      "execution_count": null,
      "outputs": []
    },
    {
      "cell_type": "code",
      "metadata": {
        "id": "Dmt8VysHdGjP"
      },
      "source": [
        "# Repeating the same \n",
        "model.add(Conv2D(64,(3,3),padding='same'))\n",
        "model.add(Activation('relu'))\n",
        "model.add(MaxPooling2D(pool_size=(2,2)))\n",
        "model.add(Dropout(0.2))\n",
        "model.add(BatchNormalization())\n",
        "\n",
        "\n",
        "model.add(Conv2D(128,(3,3),padding='same'))\n",
        "model.add(Activation('relu'))\n",
        "model.add(MaxPooling2D(pool_size=(2,2)))\n",
        "model.add(Dropout(0.2))\n",
        "model.add(BatchNormalization())"
      ],
      "execution_count": null,
      "outputs": []
    },
    {
      "cell_type": "code",
      "metadata": {
        "id": "ggkwLcR6dISf"
      },
      "source": [
        "# Need to flatter for 1D \n",
        "\n",
        "model.add(Flatten())\n",
        "model.add(Dropout(0.2))"
      ],
      "execution_count": null,
      "outputs": []
    },
    {
      "cell_type": "code",
      "metadata": {
        "id": "mB3ZiM0vdLnP"
      },
      "source": [
        "model.add(Dense(256,kernel_constraint=maxnorm(3)))\n",
        "model.add(Activation('relu'))\n",
        "model.add(Dropout(0.2))\n",
        "model.add(BatchNormalization())\n",
        "\n",
        "\n",
        "model.add(Dense(256,kernel_constraint=maxnorm(3)))\n",
        "model.add(Activation('relu'))\n",
        "model.add(Dropout(0.2))\n",
        "model.add(BatchNormalization())"
      ],
      "execution_count": null,
      "outputs": []
    },
    {
      "cell_type": "code",
      "metadata": {
        "id": "9EHD59dTdNDX"
      },
      "source": [
        "model.add(Dense(class_num))\n",
        "model.add(Activation('softmax'))"
      ],
      "execution_count": null,
      "outputs": []
    },
    {
      "cell_type": "code",
      "metadata": {
        "id": "PHi5bO_BdOpX"
      },
      "source": [
        "\n",
        "epochs=25\n",
        "optimizer='adam'"
      ],
      "execution_count": null,
      "outputs": []
    },
    {
      "cell_type": "code",
      "metadata": {
        "id": "C9IEfSNZdP9P"
      },
      "source": [
        "model.compile(loss='categorical_crossentropy',optimizer=optimizer, metrics=['accuracy'])"
      ],
      "execution_count": null,
      "outputs": []
    },
    {
      "cell_type": "code",
      "metadata": {
        "colab": {
          "base_uri": "https://localhost:8080/"
        },
        "id": "5eUkXZqbdSGW",
        "outputId": "2b2025d0-2984-459a-8ec8-96e3efb82e69"
      },
      "source": [
        "\n",
        "print(model.summary())"
      ],
      "execution_count": null,
      "outputs": [
        {
          "output_type": "stream",
          "text": [
            "Model: \"sequential_1\"\n",
            "_________________________________________________________________\n",
            "Layer (type)                 Output Shape              Param #   \n",
            "=================================================================\n",
            "conv2d_4 (Conv2D)            (None, 32, 32, 32)        896       \n",
            "_________________________________________________________________\n",
            "activation_7 (Activation)    (None, 32, 32, 32)        0         \n",
            "_________________________________________________________________\n",
            "dropout_7 (Dropout)          (None, 32, 32, 32)        0         \n",
            "_________________________________________________________________\n",
            "batch_normalization_6 (Batch (None, 32, 32, 32)        128       \n",
            "_________________________________________________________________\n",
            "conv2d_5 (Conv2D)            (None, 32, 32, 64)        18496     \n",
            "_________________________________________________________________\n",
            "activation_8 (Activation)    (None, 32, 32, 64)        0         \n",
            "_________________________________________________________________\n",
            "max_pooling2d_3 (MaxPooling2 (None, 16, 16, 64)        0         \n",
            "_________________________________________________________________\n",
            "dropout_8 (Dropout)          (None, 16, 16, 64)        0         \n",
            "_________________________________________________________________\n",
            "batch_normalization_7 (Batch (None, 16, 16, 64)        256       \n",
            "_________________________________________________________________\n",
            "conv2d_6 (Conv2D)            (None, 16, 16, 64)        36928     \n",
            "_________________________________________________________________\n",
            "activation_9 (Activation)    (None, 16, 16, 64)        0         \n",
            "_________________________________________________________________\n",
            "max_pooling2d_4 (MaxPooling2 (None, 8, 8, 64)          0         \n",
            "_________________________________________________________________\n",
            "dropout_9 (Dropout)          (None, 8, 8, 64)          0         \n",
            "_________________________________________________________________\n",
            "batch_normalization_8 (Batch (None, 8, 8, 64)          256       \n",
            "_________________________________________________________________\n",
            "conv2d_7 (Conv2D)            (None, 8, 8, 128)         73856     \n",
            "_________________________________________________________________\n",
            "activation_10 (Activation)   (None, 8, 8, 128)         0         \n",
            "_________________________________________________________________\n",
            "max_pooling2d_5 (MaxPooling2 (None, 4, 4, 128)         0         \n",
            "_________________________________________________________________\n",
            "dropout_10 (Dropout)         (None, 4, 4, 128)         0         \n",
            "_________________________________________________________________\n",
            "batch_normalization_9 (Batch (None, 4, 4, 128)         512       \n",
            "_________________________________________________________________\n",
            "flatten_1 (Flatten)          (None, 2048)              0         \n",
            "_________________________________________________________________\n",
            "dropout_11 (Dropout)         (None, 2048)              0         \n",
            "_________________________________________________________________\n",
            "dense_3 (Dense)              (None, 256)               524544    \n",
            "_________________________________________________________________\n",
            "activation_11 (Activation)   (None, 256)               0         \n",
            "_________________________________________________________________\n",
            "dropout_12 (Dropout)         (None, 256)               0         \n",
            "_________________________________________________________________\n",
            "batch_normalization_10 (Batc (None, 256)               1024      \n",
            "_________________________________________________________________\n",
            "dense_4 (Dense)              (None, 256)               65792     \n",
            "_________________________________________________________________\n",
            "activation_12 (Activation)   (None, 256)               0         \n",
            "_________________________________________________________________\n",
            "dropout_13 (Dropout)         (None, 256)               0         \n",
            "_________________________________________________________________\n",
            "batch_normalization_11 (Batc (None, 256)               1024      \n",
            "_________________________________________________________________\n",
            "dense_5 (Dense)              (None, 10)                2570      \n",
            "_________________________________________________________________\n",
            "activation_13 (Activation)   (None, 10)                0         \n",
            "=================================================================\n",
            "Total params: 726,282\n",
            "Trainable params: 724,682\n",
            "Non-trainable params: 1,600\n",
            "_________________________________________________________________\n",
            "None\n"
          ],
          "name": "stdout"
        }
      ]
    },
    {
      "cell_type": "code",
      "metadata": {
        "colab": {
          "base_uri": "https://localhost:8080/"
        },
        "id": "nKC9QrLqdUaf",
        "outputId": "36ac0390-300e-4aae-c34b-2daa4444fcb6"
      },
      "source": [
        "seed = 21 #random\n",
        "numpy.random.seed(seed)\n",
        "result=model.fit(x_train,y_train,validation_data=(x_test,y_test),epochs=epochs,batch_size=64)"
      ],
      "execution_count": null,
      "outputs": [
        {
          "output_type": "stream",
          "text": [
            "Epoch 1/25\n",
            "782/782 [==============================] - 12s 12ms/step - loss: 1.8952 - accuracy: 0.3481 - val_loss: 1.3079 - val_accuracy: 0.5272\n",
            "Epoch 2/25\n",
            "782/782 [==============================] - 8s 11ms/step - loss: 1.1931 - accuracy: 0.5719 - val_loss: 0.9690 - val_accuracy: 0.6568\n",
            "Epoch 3/25\n",
            "782/782 [==============================] - 8s 11ms/step - loss: 0.9507 - accuracy: 0.6639 - val_loss: 0.7717 - val_accuracy: 0.7267\n",
            "Epoch 4/25\n",
            "782/782 [==============================] - 8s 11ms/step - loss: 0.8361 - accuracy: 0.7054 - val_loss: 0.7721 - val_accuracy: 0.7272\n",
            "Epoch 5/25\n",
            "782/782 [==============================] - 8s 10ms/step - loss: 0.7545 - accuracy: 0.7348 - val_loss: 0.6460 - val_accuracy: 0.7783\n",
            "Epoch 6/25\n",
            "782/782 [==============================] - 8s 11ms/step - loss: 0.7034 - accuracy: 0.7539 - val_loss: 0.6747 - val_accuracy: 0.7599\n",
            "Epoch 7/25\n",
            "782/782 [==============================] - 8s 11ms/step - loss: 0.6582 - accuracy: 0.7674 - val_loss: 0.6057 - val_accuracy: 0.7875\n",
            "Epoch 8/25\n",
            "782/782 [==============================] - 8s 11ms/step - loss: 0.6238 - accuracy: 0.7827 - val_loss: 0.5715 - val_accuracy: 0.8014\n",
            "Epoch 9/25\n",
            "782/782 [==============================] - 9s 11ms/step - loss: 0.5963 - accuracy: 0.7881 - val_loss: 0.5620 - val_accuracy: 0.8063\n",
            "Epoch 10/25\n",
            "782/782 [==============================] - 8s 11ms/step - loss: 0.5659 - accuracy: 0.8048 - val_loss: 0.6082 - val_accuracy: 0.7884\n",
            "Epoch 11/25\n",
            "782/782 [==============================] - 8s 11ms/step - loss: 0.5460 - accuracy: 0.8088 - val_loss: 0.5541 - val_accuracy: 0.8096\n",
            "Epoch 12/25\n",
            "782/782 [==============================] - 8s 11ms/step - loss: 0.5341 - accuracy: 0.8097 - val_loss: 0.5709 - val_accuracy: 0.8061\n",
            "Epoch 13/25\n",
            "782/782 [==============================] - 8s 11ms/step - loss: 0.5109 - accuracy: 0.8200 - val_loss: 0.5422 - val_accuracy: 0.8167\n",
            "Epoch 14/25\n",
            "782/782 [==============================] - 8s 11ms/step - loss: 0.5049 - accuracy: 0.8220 - val_loss: 0.5148 - val_accuracy: 0.8247\n",
            "Epoch 15/25\n",
            "782/782 [==============================] - 8s 11ms/step - loss: 0.4800 - accuracy: 0.8326 - val_loss: 0.5317 - val_accuracy: 0.8150\n",
            "Epoch 16/25\n",
            "782/782 [==============================] - 8s 11ms/step - loss: 0.4739 - accuracy: 0.8354 - val_loss: 0.5442 - val_accuracy: 0.8135\n",
            "Epoch 17/25\n",
            "782/782 [==============================] - 8s 11ms/step - loss: 0.4579 - accuracy: 0.8386 - val_loss: 0.5191 - val_accuracy: 0.8252\n",
            "Epoch 18/25\n",
            "782/782 [==============================] - 8s 11ms/step - loss: 0.4536 - accuracy: 0.8396 - val_loss: 0.5033 - val_accuracy: 0.8281\n",
            "Epoch 19/25\n",
            "782/782 [==============================] - 8s 11ms/step - loss: 0.4466 - accuracy: 0.8419 - val_loss: 0.4847 - val_accuracy: 0.8337\n",
            "Epoch 20/25\n",
            "782/782 [==============================] - 8s 11ms/step - loss: 0.4382 - accuracy: 0.8463 - val_loss: 0.4931 - val_accuracy: 0.8353\n",
            "Epoch 21/25\n",
            "782/782 [==============================] - 9s 11ms/step - loss: 0.4333 - accuracy: 0.8458 - val_loss: 0.4840 - val_accuracy: 0.8397\n",
            "Epoch 22/25\n",
            "782/782 [==============================] - 8s 11ms/step - loss: 0.4356 - accuracy: 0.8497 - val_loss: 0.5279 - val_accuracy: 0.8207\n",
            "Epoch 23/25\n",
            "782/782 [==============================] - 8s 11ms/step - loss: 0.4150 - accuracy: 0.8534 - val_loss: 0.4795 - val_accuracy: 0.8409\n",
            "Epoch 24/25\n",
            "782/782 [==============================] - 8s 11ms/step - loss: 0.4091 - accuracy: 0.8548 - val_loss: 0.4774 - val_accuracy: 0.8374\n",
            "Epoch 25/25\n",
            "782/782 [==============================] - 8s 11ms/step - loss: 0.4206 - accuracy: 0.8515 - val_loss: 0.4765 - val_accuracy: 0.8386\n"
          ],
          "name": "stdout"
        }
      ]
    },
    {
      "cell_type": "code",
      "metadata": {
        "colab": {
          "base_uri": "https://localhost:8080/",
          "height": 621
        },
        "id": "AeXDEHardc63",
        "outputId": "b6fbfd89-c13a-4d4e-8189-354cbb74f10c"
      },
      "source": [
        "\n",
        "import matplotlib.pyplot as plt\n",
        "\n",
        "plt.figure(figsize=(20, 10))\n",
        "plt.subplot(1, 2, 1)\n",
        "plt.title(\"CNN Training and Validation Accuracy\")\n",
        "plt.plot(result.history[\"accuracy\"], label='Training Accuracy')\n",
        "plt.plot(result.history['val_accuracy'], label='Validation Accuracy')\n",
        "plt.legend(loc='lower right')\n",
        "plt.ylabel('accuracy')\n",
        "plt.xlabel('epoch')\n",
        "plt.subplot(1, 2, 2)\n",
        "plt.plot( result.history[\"loss\"], label='Training Loss')\n",
        "plt.plot( result.history[\"val_loss\"], label='Validation Loss')\n",
        "plt.legend(loc='upper right')\n",
        "plt.title('CNN Training and Validation Loss')\n",
        "plt.ylabel('loss')\n",
        "plt.xlabel('epoch')\n",
        "plt.show()"
      ],
      "execution_count": null,
      "outputs": [
        {
          "output_type": "display_data",
          "data": {
            "image/png": "[encoded data removed]",
            "text/plain": [
              "<Figure size 1440x720 with 2 Axes>"
            ]
          },
          "metadata": {
            "tags": [],
            "needs_background": "light"
          }
        }
      ]
    },
    {
      "cell_type": "code",
      "metadata": {
        "colab": {
          "base_uri": "https://localhost:8080/"
        },
        "id": "hTDo-SmDgUBP",
        "outputId": "29b5e7db-1f23-4ef9-fbeb-d768a4265c29"
      },
      "source": [
        "scores = model.evaluate(x_test, y_test, verbose=1) \n",
        "print('Test loss:', scores[0])\n",
        "print('Test accuracy:', scores[1])"
      ],
      "execution_count": null,
      "outputs": [
        {
          "output_type": "stream",
          "text": [
            "313/313 [==============================] - 1s 4ms/step - loss: 0.4765 - accuracy: 0.8386\n",
            "Test loss: 0.47646400332450867\n",
            "Test accuracy: 0.8385999798774719\n"
          ],
          "name": "stdout"
        }
      ]
    },
    {
      "cell_type": "code",
      "metadata": {
        "id": "bEsBpH9QgZQQ"
      },
      "source": [
        ""
      ],
      "execution_count": null,
      "outputs": []
    }
  ]
}